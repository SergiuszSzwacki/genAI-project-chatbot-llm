{
 "cells": [
  {
   "metadata": {},
   "cell_type": "markdown",
   "source": "## Instalujemy niezbędne biblioteki i pobieramy potrzebne pliki",
   "id": "b8087dd600857d3d"
  },
  {
   "metadata": {
    "ExecuteTime": {
     "end_time": "2025-01-06T15:52:03.466080Z",
     "start_time": "2025-01-06T15:51:58.020097Z"
    }
   },
   "cell_type": "code",
   "source": [
    "!pip install spacy\n",
    "#https://github.com/sdadas/polish-nlp-resources/releases/download/v1.0/word2vec.zip\n",
    "!python -m spacy download pl_core_news_sm\n",
    "!pip install gensim"
   ],
   "id": "b23d9e8fa05591c7",
   "outputs": [
    {
     "name": "stdout",
     "output_type": "stream",
     "text": [
      "^C\n",
      "^C\n"
     ]
    }
   ],
   "execution_count": 8
  },
  {
   "metadata": {},
   "cell_type": "markdown",
   "source": "## Wczytujemy dane",
   "id": "d93726b802e34294"
  },
  {
   "cell_type": "code",
   "id": "initial_id",
   "metadata": {
    "collapsed": true,
    "ExecuteTime": {
     "end_time": "2025-01-06T15:38:18.993337Z",
     "start_time": "2025-01-06T15:38:18.969319Z"
    }
   },
   "source": [
    "import os\n",
    "\n",
    "# Zakładając, że pliki znajdują się w folderze 'data'\n",
    "files = []\n",
    "for i in range(1, 6):\n",
    "    with open(f\"data/kircholm{i}.txt\", \"r\", encoding=\"utf-8\") as file:\n",
    "        files.append(file.read())\n",
    "\n",
    "# Wydrukuj początek każdego tekstu, aby sprawdzić\n",
    "for i, content in enumerate(files, start=1):\n",
    "    print(f\"Content of kircholm{i}: {content[:200]}...\")  # Pierwsze 200 znaków"
   ],
   "outputs": [
    {
     "name": "stdout",
     "output_type": "stream",
     "text": [
      "Content of kircholm1: https://www.gov.pl/web/lotwa/417-ta-rocznica-bitwy-pod-kircholmem\n",
      "\n",
      "\n",
      "Z okazji 417-ej rocznicy bitwy pod Kircholmem kwiaty pod pomnikiem w Salaspils upamiętniającym zwycięstwo wojsk Hetmana Wielkiego Ja...\n",
      "Content of kircholm2: https://ciekawostkihistoryczne.pl/2016/02/28/podobno-polacy-nie-potrafia-wykorzystywac-swoich-zwyciestw-udowodnimy-ci-ze-to-klamstwo/\n",
      "\n",
      "27 września 1605 roku. Armia Rzeczpospolitej liczyła wówczas 3500...\n",
      "Content of kircholm3: https://muzhp.pl/kalendarium/bitwa-pod-kircholmem\n",
      "Stoczona pięć lat po rozpoczęciu polsko-szwedzkiego konfliktu o Inflanty bitwa pod Kircholmem (obecnie Salaspils na Łotwie) została uznana za jedno z ...\n",
      "Content of kircholm4: https://pl.wikipedia.org/wiki/Bitwa_pod_Kircholmem\n",
      "\n",
      "Bitwa pod Kircholmem (obecnie miejscowość Salaspils na Łotwie, 25 km na południowy wschód od Rygi) – bitwa stoczona 27 września 1605 w czasie polsko...\n",
      "Content of kircholm5: https://wszystkoconajwazniejsze.pl/pepites/bitwa-pod-kircholmem-najwiekszy-tryumf-husarii/\n",
      "\n",
      "Bitwa pod Kircholmem jest uznawana za jeden z największych momentów chwały husarii – polskiej ciężkozbrojnej...\n"
     ]
    }
   ],
   "execution_count": 1
  },
  {
   "metadata": {},
   "cell_type": "markdown",
   "source": "## Preprocessing",
   "id": "5b283845423b13cc"
  },
  {
   "metadata": {
    "ExecuteTime": {
     "end_time": "2025-01-06T15:49:10.527924Z",
     "start_time": "2025-01-06T15:49:09.020733Z"
    }
   },
   "cell_type": "code",
   "source": [
    "import spacy\n",
    "\n",
    "# Załaduj polski model spaCy\n",
    "nlp = spacy.load(\"pl_core_news_sm\")\n",
    "\n",
    "# Funkcja preprocessująca tekst\n",
    "def preprocess_text(text):\n",
    "    doc = nlp(text)\n",
    "    # Lematyzacja słów\n",
    "    return [token.lemma_ for token in doc if not token.is_stop and not token.is_punct]\n",
    "\n",
    "# Przetwarzanie plików\n",
    "processed_files = [preprocess_text(file_content) for file_content in files]\n",
    "\n",
    "# Przykład pierwszego przetworzonego tekstu\n",
    "for i, processed_text in enumerate(processed_files, start=1):\n",
    "    print(f\"Processed text for kircholm{i}: {processed_text[:10]}...\")  # Pierwsze 10 słów"
   ],
   "id": "52850891255569ad",
   "outputs": [
    {
     "name": "stdout",
     "output_type": "stream",
     "text": [
      "Processed text for kircholm1: ['https://www.gov.pl/web/lotwa/417-ta-rocznica-bitwy-pod-kircholm', '\\n\\n\\n', 'okazja', '417', 'ej', 'rocznica', 'bitwa', 'Kircholm', 'kwiat', 'pomniek']...\n",
      "Processed text for kircholm2: ['https://ciekawostkihistoryczne.pl/2016/02/28/podobno-polacy-nie-potrafia-wykorzystywac-swoich-zwyciestw-udowodnimy-ci-ze-to-klamstwo/', '\\n\\n', '27', 'wrzesień', '1605', 'Armia', 'Rzeczpospolita', 'liczyć', 'wówczas', '3500']...\n",
      "Processed text for kircholm3: ['https://muzhp.pl/kalendarium/bitwa-pod-kircholm', '\\n', 'stoczona', 'pięć', 'rok', 'rozpoczęć', 'polski', 'szwedzki', 'konflikt', 'Inflanty']...\n",
      "Processed text for kircholm4: ['https://pl.wikipedia.org/wiki/Bitwa_pod_Kircholm', '\\n\\n', 'Bitwa', 'Kircholm', 'obecnie', 'miejscowość', 'Salaspils', 'Łotwa', '25', 'kilometr']...\n",
      "Processed text for kircholm5: ['https://wszystkoconajwazniejsze.pl/pepites/bitwa-pod-kircholmem-najwiekszy-tryumf-husarii/', '\\n\\n', 'Bitwa', 'Kircholm', 'uznawać', 'duży', 'moment', 'chwała', 'husaria', 'polski']...\n"
     ]
    }
   ],
   "execution_count": 6
  },
  {
   "metadata": {},
   "cell_type": "markdown",
   "source": "## Przeprowadzenie Word Embedding z użyciem Word2Vec",
   "id": "9d7abfcecd088854"
  },
  {
   "metadata": {
    "ExecuteTime": {
     "end_time": "2025-01-06T15:52:25.002798Z",
     "start_time": "2025-01-06T15:52:19.013010Z"
    }
   },
   "cell_type": "code",
   "source": [
    "from gensim.models import Word2Vec\n",
    "\n",
    "# Trening modelu Word2Vec dla każdego pliku osobno\n",
    "embedding_models = []\n",
    "for i, processed_text in enumerate(processed_files, start=1):\n",
    "    # Trening modelu Word2Vec dla przetworzonego tekstu\n",
    "    model = Word2Vec([processed_text], vector_size=100, window=5, min_count=1, workers=4)\n",
    "    embedding_models.append(model)\n",
    "\n",
    "# Sprawdź przykładowe embeddingi dla pierwszego słowa\n",
    "for i, model in enumerate(embedding_models, start=1):\n",
    "    word = processed_files[i-1][0]  # Pierwsze słowo w każdym przetworzonym tekście\n",
    "    vector = model.wv[word]\n",
    "    print(f\"Embedding for the word '{word}' in kircholm{i}: {vector[:5]}...\")  # Pierwsze 5 wartości wektora"
   ],
   "id": "7514ad46003c342c",
   "outputs": [
    {
     "name": "stdout",
     "output_type": "stream",
     "text": [
      "Embedding for the word 'https://www.gov.pl/web/lotwa/417-ta-rocznica-bitwy-pod-kircholm' in kircholm1: [ 0.00188934  0.00448157  0.0014389  -0.00537073  0.00981126]...\n",
      "Embedding for the word 'https://ciekawostkihistoryczne.pl/2016/02/28/podobno-polacy-nie-potrafia-wykorzystywac-swoich-zwyciestw-udowodnimy-ci-ze-to-klamstwo/' in kircholm2: [ 0.00061226 -0.00014674 -0.00695949  0.00697505 -0.001054  ]...\n",
      "Embedding for the word 'https://muzhp.pl/kalendarium/bitwa-pod-kircholm' in kircholm3: [-0.00695511 -0.00042382  0.00368951  0.00419012  0.00241677]...\n",
      "Embedding for the word 'https://pl.wikipedia.org/wiki/Bitwa_pod_Kircholm' in kircholm4: [-0.0086343  -0.00527622  0.00360566 -0.00295995 -0.00749923]...\n",
      "Embedding for the word 'https://wszystkoconajwazniejsze.pl/pepites/bitwa-pod-kircholmem-najwiekszy-tryumf-husarii/' in kircholm5: [-0.00611494  0.00471554 -0.00143119 -0.00521171 -0.00399123]...\n"
     ]
    }
   ],
   "execution_count": 9
  },
  {
   "metadata": {},
   "cell_type": "markdown",
   "source": "## Wyniki zapisz do pliku json",
   "id": "86dcfa3548faee7"
  },
  {
   "metadata": {
    "ExecuteTime": {
     "end_time": "2025-01-06T16:04:27.828014Z",
     "start_time": "2025-01-06T16:04:27.658477Z"
    }
   },
   "cell_type": "code",
   "source": [
    "import json\n",
    "import os\n",
    "\n",
    "# Upewnij się, że katalog /data/ istnieje\n",
    "output_dir = \"data\"\n",
    "os.makedirs(output_dir, exist_ok=True)\n",
    "\n",
    "# Zapisz embeddingi do pliku JSON dla każdego tekstu\n",
    "for i, model in enumerate(embedding_models, start=1):\n",
    "    # Tworzenie słownika embeddingów\n",
    "    embeddings_dict = {word: model.wv[word].tolist() for word in model.wv.index_to_key}\n",
    "\n",
    "    # Ścieżka zapisu do pliku w katalogu /data/\n",
    "    output_file = os.path.join(output_dir, f\"kircholm{i}_embeddings.json\")\n",
    "\n",
    "    # Zapisz embeddings w formacie JSON\n",
    "    with open(output_file, \"w\", encoding=\"utf-8\") as json_file:\n",
    "        json.dump(embeddings_dict, json_file, ensure_ascii=False, indent=4)\n",
    "\n",
    "    print(f\"Saved embeddings for kircholm{i} to file: {output_file}\")"
   ],
   "id": "b132a10b07a3d7bc",
   "outputs": [
    {
     "name": "stdout",
     "output_type": "stream",
     "text": [
      "Saved embeddings for kircholm1 to file: data\\kircholm1_embeddings.json\n",
      "Saved embeddings for kircholm2 to file: data\\kircholm2_embeddings.json\n",
      "Saved embeddings for kircholm3 to file: data\\kircholm3_embeddings.json\n",
      "Saved embeddings for kircholm4 to file: data\\kircholm4_embeddings.json\n",
      "Saved embeddings for kircholm5 to file: data\\kircholm5_embeddings.json\n"
     ]
    }
   ],
   "execution_count": 11
  }
 ],
 "metadata": {
  "kernelspec": {
   "display_name": "Python 3",
   "language": "python",
   "name": "python3"
  },
  "language_info": {
   "codemirror_mode": {
    "name": "ipython",
    "version": 2
   },
   "file_extension": ".py",
   "mimetype": "text/x-python",
   "name": "python",
   "nbconvert_exporter": "python",
   "pygments_lexer": "ipython2",
   "version": "2.7.6"
  }
 },
 "nbformat": 4,
 "nbformat_minor": 5
}
