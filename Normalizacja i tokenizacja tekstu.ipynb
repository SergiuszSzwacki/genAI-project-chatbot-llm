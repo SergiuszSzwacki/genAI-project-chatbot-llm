{
 "cells": [
  {
   "cell_type": "markdown",
   "metadata": {
    "id": "lghmLARqs37u"
   },
   "source": "# NORMALIZACJA TEKSTU"
  },
  {
   "metadata": {},
   "cell_type": "markdown",
   "source": "### Pobranie datasetu"
  },
  {
   "metadata": {
    "ExecuteTime": {
     "end_time": "2025-01-06T13:31:36.723149Z",
     "start_time": "2025-01-06T13:31:36.714008Z"
    }
   },
   "cell_type": "code",
   "source": [
    "# Loop through file names (kircholm1.txt to kircholm5.txt)\n",
    "for i in range(1, 6):  # 1 to 5\n",
    "    file_path = f\"data/kircholm{i}.txt\"\n",
    "\n",
    "    with open(file_path, \"r\", encoding=\"utf-8\") as file:\n",
    "        # Dynamically assign the file content to a variable using globals()\n",
    "        globals()[f\"kircholm{i}\"] = file.read()"
   ],
   "outputs": [
    {
     "name": "stdout",
     "output_type": "stream",
     "text": [
      "https://www.gov.pl/web/lotwa/417-ta-rocznica-bitwy-pod-kircholmem\n",
      "\n",
      "\n",
      "Z okazji 417-ej rocznicy bitwy pod Kircholmem kwiaty pod pomnikiem w Salaspils upamiętniającym zwycięstwo wojsk Hetmana Wielkiego Jana Karola Chodkiewicza złożyli w imieniu Ambasador Monika Michaliszyn - chargé d'affaires Ambasady RP w Rydze Łukasz Cudny oraz attaché obrony pułkownik Tadeusz Słomczewski, mjr Daniel Fac, dowódca Polskiego Kontyngentu Wojskowego na Łotwie, który tworzą żołnierze 21 Brygady Strzelców Podhalańskich w ramach wielonarodowej batalionowej grupy bojowej eFP. Wieńce złożyli również Ambasador Republiki Litewskiej Valdas Lastauskas oraz attaché obrony Ambasady Szwecji pułkownik Mikael Nordmark. Na czas składania wieńców, Asystę Honorową przy pomnikach wystawili żołnierze PKW Łotwa.\n",
      "\n",
      "27 września 1605 r. pod Kircholmem, wojska Rzeczypospolitej pod dowództwem hetmana Jana Karola Chodkiewicza, rozgromiły trzykrotnie liczniejszą armię szwedzką Karola IX Sudermańskiego.\n",
      "\n",
      "Wieńce złożono także pod obeliskiem upamiętniającym udział Szwedów w bitwie. W wydarzeniu udział wziął także attaché obrony przy Ambasadzie Szwecji na Łotwie.\n",
      "\n"
     ]
    }
   ],
   "execution_count": 4
  },
  {
   "metadata": {
    "ExecuteTime": {
     "end_time": "2025-01-06T13:32:11.337945Z",
     "start_time": "2025-01-06T13:32:11.329566Z"
    }
   },
   "cell_type": "code",
   "source": "print(kircholm2)",
   "outputs": [
    {
     "name": "stdout",
     "output_type": "stream",
     "text": [
      "https://ciekawostkihistoryczne.pl/2016/02/28/podobno-polacy-nie-potrafia-wykorzystywac-swoich-zwyciestw-udowodnimy-ci-ze-to-klamstwo/\n",
      "\n",
      "27 września 1605 roku. Armia Rzeczpospolitej liczyła wówczas 3500 żołnierzy, Szwedów było 12 tysięcy. Gdy hetman Jan Karol Chodkiewicz w mowie przed bitwą wspomniał o licznych chorągwiach nieprzyjacielskich, przerwał mu jeden z towarzyszy pancernych, mówiąc: Policzymy one lepiej, gdy Szwedów wybijemy.\n",
      " Mimo olbrzymiej przewagi liczebnej, Szwedzi przegrali pod Kircholmem. Wynik – 9 tysięcy zabitych. Hetman Chodkiewicz stracił zaledwie 100 żołnierzy. Obraz „Po bitwie pod Kircholmem” Januarego Suchodolskiego (źródło: domena publiczna).\n",
      "\n",
      "Zwycięstwo totalne mimo prawie czterokrotnej (a może i pięciokrotnej – przyjmując inne szacunki) liczebnej przewagi wroga. Chodkiewicz po swojej stronie miał 100 zabitych, 200 rannych i wiele straconych koni. Ze szwedzkiej strony zginęło 9 tysięcy żołnierzy. Trupy nieprzyjaciół ścieliły się na odcinku dziesięciu kilometrów od Kircholmu do Rygi.\n",
      "\n",
      "Właśnie, Rygi.\n",
      "\n",
      "O Kircholmie praktycznie zawsze mówi się w kategorii niewykorzystanego zwycięstwa. A gdyby nazwać bitwę odsieczą Rygi – bo tym w istocie była – od razu perspektywa ulegnie zmianie. Roku Pańskiego 1605 dzisiejsza łotewska stolica była drugim miastem Rzeczpospolitej. Zwycięstwo nad Szwedami przyniosło zatem wymierny efekt – Ryga została ocalona. \n",
      "\n",
      "Kolejne lata upływały pod znakiem krwawej zabawy w kotka i myszkę ze Szwedami. Chodkiewicz odnosił kolejne wspaniałe zwycięstwa i jak zwykle miał problem z otrzymaniem żołdu dla żołnierzy. Szwedzi co jakiś czas odzyskiwali słabo obsadzone twierdze, ale sukces był już blisko. Kilka lat po Kircholmie hetman prowadził tajne rokowania z władzami Rewla, dzisiejszego Tallina, i ustalił już z nimi warunki przejścia pod panowania Rzeczpospolitej!\n",
      "Zwycięstwo pod Kircholmem miało bardzo konkretny efekt - ocalenie Rygi. Obraz Pietera Snayersa \"Bitwa pod Kircholmem\" (źródło: domena publiczna).\n",
      "\n",
      "Zwycięstwo pod Kircholmem miało bardzo konkretny efekt – ocalenie Rygi. Obraz Pietera Snayersa „Bitwa pod Kircholmem” (źródło: domena publiczna).\n",
      "\n",
      "Sęk w tym, że ta miała nowy kierunek ekspansji – Moskwę. Nie ma co ukrywać, wyniszczona wewnętrznym kryzysem Rosja była dla Polaków jak promocja w supermarkecie i dawała więcej możliwości niż północna Estonia, bo właśnie tylko ona dzieliła polskie państwo od Zatoki Fińskiej.\n",
      "\n",
      "Samą Rygę utraciliśmy w okolicznościach więcej niż pechowych. Gdy w 1621 roku wojska Rzeczpospolitej pod Chocimiem stawiały opór wielkiej tureckiej armii, Szwedzi wbili nam nóż w plecy i zaatakowali od północy. Tak właśnie wygląda solidarność chrześcijańskiego świata w obliczu islamskiego zagrożenia! Ryżanie bronili się dzielnie, ale gdy nie mieli znikąd nadziei na odsiecz – musieli skapitulować.\n",
      "\n",
      "\n"
     ]
    }
   ],
   "execution_count": 6
  },
  {
   "metadata": {},
   "cell_type": "markdown",
   "source": "## Scalanie wszystkich plików źródłowych w całość"
  },
  {
   "metadata": {},
   "cell_type": "code",
   "source": [
    "# Initialize an empty list to store content from all files\n",
    "train = []\n",
    "\n",
    "# Loop through file names (kircholm1.txt to kircholm5.txt)\n",
    "for i in range(1, 6):  # 1 to 5\n",
    "    file_path = f\"data/kircholm{i}.txt\"\n",
    "    with open(file_path, \"r\", encoding=\"utf-8\") as file:\n",
    "        # Read content and append to the train list\n",
    "        train.append(file.read())\n",
    "\n",
    "# Merge all the text into a single string\n",
    "train = \" \".join(train)"
   ],
   "outputs": [],
   "execution_count": null
  },
  {
   "metadata": {
    "ExecuteTime": {
     "end_time": "2025-01-06T13:26:31.120156Z",
     "start_time": "2025-01-06T13:26:31.110281Z"
    }
   },
   "cell_type": "code",
   "source": [
    "# Print the first 100 characters of the merged text\n",
    "print(train[:1000])  # Adjust the number of characters as needed"
   ],
   "outputs": [
    {
     "name": "stdout",
     "output_type": "stream",
     "text": [
      "https://www.gov.pl/web/lotwa/417-ta-rocznica-bitwy-pod-kircholmem\n",
      "\n",
      "\n",
      "Z okazji 417-ej rocznicy bitwy pod Kircholmem kwiaty pod pomnikiem w Salaspils upamiętniającym zwycięstwo wojsk Hetmana Wielkiego Jana Karola Chodkiewicza złożyli w imieniu Ambasador Monika Michaliszyn - chargé d'affaires Ambasady RP w Rydze Łukasz Cudny oraz attaché obrony pułkownik Tadeusz Słomczewski, mjr Daniel Fac, dowódca Polskiego Kontyngentu Wojskowego na Łotwie, który tworzą żołnierze 21 Brygady Strzelców Podhalańskich w ramach wielonarodowej batalionowej grupy bojowej eFP. Wieńce złożyli również Ambasador Republiki Litewskiej Valdas Lastauskas oraz attaché obrony Ambasady Szwecji pułkownik Mikael Nordmark. Na czas składania wieńców, Asystę Honorową przy pomnikach wystawili żołnierze PKW Łotwa.\n",
      "\n",
      "27 września 1605 r. pod Kircholmem, wojska Rzeczypospolitej pod dowództwem hetmana Jana Karola Chodkiewicza, rozgromiły trzykrotnie liczniejszą armię szwedzką Karola IX Sudermańskiego.\n",
      "\n",
      "Wieńce złożono także pod obelisk\n"
     ]
    }
   ],
   "execution_count": 2
  },
  {
   "cell_type": "markdown",
   "metadata": {
    "id": "Drn0hx5xs37y"
   },
   "source": [
    "## Analiza danych tekstowych"
   ]
  },
  {
   "cell_type": "markdown",
   "metadata": {
    "id": "EezXW9OWs37y"
   },
   "source": [
    "### Sprawdź liczbę słów i liter"
   ]
  },
  {
   "cell_type": "code",
   "metadata": {
    "id": "QnxE5xh7s37y",
    "outputId": "f289e1ac-2ab1-417a-bb1f-1871d1e7e423",
    "ExecuteTime": {
     "end_time": "2025-01-06T13:35:22.975748Z",
     "start_time": "2025-01-06T13:35:22.965797Z"
    }
   },
   "source": [
    "# Create a list of all variables\n",
    "files = [kircholm1, kircholm2, kircholm3, kircholm4, kircholm5]\n",
    "\n",
    "# Count words for each file's content\n",
    "word_counts = [len(str(file_content).split()) for file_content in files]\n",
    "\n",
    "# Print the word counts for each file\n",
    "for i, word_count in enumerate(word_counts, start=1):\n",
    "    print(f\"Word count for kircholm{i}: {word_count}\")"
   ],
   "outputs": [
    {
     "name": "stdout",
     "output_type": "stream",
     "text": [
      "Word count for kircholm1: 137\n",
      "Word count for kircholm2: 371\n",
      "Word count for kircholm3: 153\n",
      "Word count for kircholm4: 250\n",
      "Word count for kircholm5: 738\n"
     ]
    }
   ],
   "execution_count": 7
  },
  {
   "cell_type": "code",
   "metadata": {
    "id": "kUX-pYh6s37z",
    "outputId": "b661d1b6-e7fa-49f1-d903-01a13bb8726f",
    "ExecuteTime": {
     "end_time": "2025-01-06T13:36:50.481178Z",
     "start_time": "2025-01-06T13:36:50.466604Z"
    }
   },
   "source": [
    "#oblicz liczbę liter w każdym tekście\n",
    "# Count characters for each file's content\n",
    "char_counts = [len(str(file_content)) for file_content in files]\n",
    "\n",
    "# Print the character counts for each file\n",
    "for i, char_count in enumerate(char_counts, start=1):\n",
    "    print(f\"Character count for kircholm{i}: {char_count}\")\n",
    "\n",
    "# Calculate the mean character count\n",
    "mean_char_count = sum(char_counts) / len(char_counts)\n",
    "print(f\"Mean character count: {mean_char_count}\")"
   ],
   "outputs": [
    {
     "name": "stdout",
     "output_type": "stream",
     "text": [
      "Character count for kircholm1: 1127\n",
      "Character count for kircholm2: 2802\n",
      "Character count for kircholm3: 1206\n",
      "Character count for kircholm4: 1844\n",
      "Character count for kircholm5: 5442\n",
      "Mean character count: 2484.2\n"
     ]
    }
   ],
   "execution_count": 8
  },
  {
   "cell_type": "code",
   "metadata": {
    "id": "hNFR9blns370",
    "outputId": "cc1f5101-12c9-40c1-e77f-a113f6397701",
    "ExecuteTime": {
     "end_time": "2025-01-06T13:38:59.924911Z",
     "start_time": "2025-01-06T13:38:59.905371Z"
    }
   },
   "source": [
    "# średnia ilość liter w słowie\n",
    "# Function to calculate average characters per word\n",
    "def avg_characters_per_word(sentence):\n",
    "    words = sentence.split()  # Split the sentence into words\n",
    "    return (sum(len(word) for word in words) / len(words)) if words else 0  # Avoid division by zero if the sentence is empty\n",
    "\n",
    "# Assuming 'files' contains the text content for kircholm1, kircholm2, ..., kircholm5\n",
    "# We can apply this function to each element in the 'files' list\n",
    "\n",
    "# Apply the function to each file's content\n",
    "avg_char_counts = [avg_characters_per_word(file_content) for file_content in files]\n",
    "\n",
    "# Print the average character count per word for each file\n",
    "for i, avg_count in enumerate(avg_char_counts, start=1):\n",
    "    print(f\"Average characters per word for kircholm{i}: {avg_count:.2f}\")\n",
    "\n",
    "# Calculate the mean of all these averages\n",
    "mean_avg_char_count = sum(avg_char_counts) / len(avg_char_counts)\n",
    "print(f\"Mean average characters per word: {mean_avg_char_count:.2f}\")"
   ],
   "outputs": [
    {
     "name": "stdout",
     "output_type": "stream",
     "text": [
      "Average characters per word for kircholm1: 7.20\n",
      "Average characters per word for kircholm2: 6.52\n",
      "Average characters per word for kircholm3: 6.88\n",
      "Average characters per word for kircholm4: 6.36\n",
      "Average characters per word for kircholm5: 6.36\n",
      "Mean average characters per word: 6.66\n"
     ]
    }
   ],
   "execution_count": 9
  },
  {
   "cell_type": "markdown",
   "metadata": {
    "id": "MrI2e0q9s370"
   },
   "source": [
    "### Stop-słowa"
   ]
  },
  {
   "metadata": {
    "ExecuteTime": {
     "end_time": "2025-01-06T13:51:57.488925Z",
     "start_time": "2025-01-06T13:51:57.472769Z"
    }
   },
   "cell_type": "code",
   "source": [
    "import nltk\n",
    "from nltk.corpus import stopwords\n",
    "# Load the Polish stopwords\n",
    "stop = stopwords.words('polish')\n",
    "\n",
    "# Print the first 10 stopwords to verify\n",
    "print(stop[:10])\n",
    "\n",
    "# Initialize a list to store the stopword counts for each file\n",
    "stopwords_count = []\n",
    "\n",
    "# Process each file in the 'files' list\n",
    "for i, file_content in enumerate(files, start=1):\n",
    "    # Split the file content into words and count stopwords\n",
    "    stopword_count = len([word for word in file_content.split() if word in stop])\n",
    "\n",
    "    # Append the result to the stopwords_count list\n",
    "    stopwords_count.append(stopword_count)\n",
    "\n",
    "    # Print stopwords count for each file\n",
    "    print(f\"Stopwords in kircholm{i}: {stopword_count}\")\n",
    "\n",
    "# Calculate the mean number of stopwords across all files\n",
    "mean_stopwords = sum(stopwords_count) / len(stopwords_count)\n",
    "print(f'Mean number of stopwords: {mean_stopwords}')\n"
   ],
   "outputs": [
    {
     "name": "stdout",
     "output_type": "stream",
     "text": [
      "['a', 'aby', 'ach', 'acz', 'aczkolwiek', 'aj', 'albo', 'ale', 'alez', 'ależ']\n",
      "Stopwords in kircholm1: 20\n",
      "Stopwords in kircholm2: 95\n",
      "Stopwords in kircholm3: 36\n",
      "Stopwords in kircholm4: 51\n",
      "Stopwords in kircholm5: 175\n",
      "Mean number of stopwords: 75.4\n"
     ]
    }
   ],
   "execution_count": 13
  }
 ],
 "metadata": {
  "kernelspec": {
   "display_name": "Python 3 (ipykernel)",
   "language": "python",
   "name": "python3"
  },
  "language_info": {
   "codemirror_mode": {
    "name": "ipython",
    "version": 3
   },
   "file_extension": ".py",
   "mimetype": "text/x-python",
   "name": "python",
   "nbconvert_exporter": "python",
   "pygments_lexer": "ipython3",
   "version": "3.9.12"
  },
  "colab": {
   "provenance": []
  }
 },
 "nbformat": 4,
 "nbformat_minor": 0
}
